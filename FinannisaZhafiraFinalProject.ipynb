{
  "nbformat": 4,
  "nbformat_minor": 0,
  "metadata": {
    "colab": {
      "name": "FinannisaZhafiraFinalProject",
      "provenance": [],
      "collapsed_sections": []
    },
    "kernelspec": {
      "name": "python3",
      "display_name": "Python 3"
    }
  },
  "cells": [
    {
      "cell_type": "code",
      "metadata": {
        "id": "j3sTJq5sqcuu",
        "colab_type": "code",
        "colab": {}
      },
      "source": [
        "import numpy as np\n",
        "import pandas as pd\n",
        "\n",
        "\n",
        "df = pd.read_csv('Pendapatan.csv')\n",
        "df_test=pd.read_csv('Pendapatan_test.csv')\n",
        "df['Status Perkawinan'].value_counts()"
      ],
      "execution_count": 0,
      "outputs": []
    },
    {
      "cell_type": "code",
      "metadata": {
        "id": "tEIpxwOuqgGH",
        "colab_type": "code",
        "colab": {}
      },
      "source": [
        "df=df.drop(['id','Berat Akhir'],axis=1)\n",
        "obj_dict={\n",
        "    '1st-4th' : 0,\n",
        "    '5th-6th' : 1,\n",
        "    'SD':2,\n",
        "    '7th-8th' : 3,\n",
        "    '9th' : 4,\n",
        "    '10th':5,\n",
        "    '11th':6,\n",
        "    '12th':7,\n",
        "    'SMA' : 8,\n",
        "    'Pendidikan Tinggi' : 9,\n",
        "    'D3' : 10,\n",
        "    'D4':11,\n",
        "    'Sarjana' : 12,\n",
        "    'Master': 13,\n",
        "    'Doktor':14,\n",
        "    'Sekolah Professional':15,\n",
        "}\n",
        "df['Pendidikan']=df['Pendidikan'].replace(obj_dict)\n",
        "df_test['Pendidikan']=df_test['Pendidikan'].replace(obj_dict)\n",
        "\n",
        "df=df.replace('?',np.nan)\n",
        "df_test=df_test.replace('?',np.nan)\n",
        "df=df.sort_values('Pendidikan',ignore_index=True)\n",
        "df_test=df_test.sort_values('Pendidikan',ignore_index=True)\n",
        "\n",
        "df_testid=df_test[['id']]\n",
        "df_test=df_test.drop(['id','Berat Akhir'],axis=1)\n",
        "\n",
        "df=df.fillna(method='bfill')\n",
        "df_test=df_test.fillna(method='bfill')\n",
        "\n",
        "df=pd.get_dummies(df,columns=['Kelas Pekerja','Status Perkawinan','Jenis Kelamin','Pekerjaan'])\n",
        "df_test=pd.get_dummies(df_test,columns=['Kelas Pekerja','Status Perkawinan','Jenis Kelamin','Pekerjaan'])\n",
        "\n",
        "df.head()"
      ],
      "execution_count": 0,
      "outputs": []
    },
    {
      "cell_type": "code",
      "metadata": {
        "id": "rnhBPBkTqgpL",
        "colab_type": "code",
        "colab": {}
      },
      "source": [
        "import pandas as pd\n",
        "import numpy as np\n",
        "\n",
        "df = pd.read_csv('Pendapatan.csv')\n",
        "df_test = pd.read_csv('Pendapatan_test.csv')"
      ],
      "execution_count": 0,
      "outputs": []
    },
    {
      "cell_type": "code",
      "metadata": {
        "id": "bHDN6rKkqj3D",
        "colab_type": "code",
        "colab": {}
      },
      "source": [
        "from sklearn.neighbors import KNeighborsClassifier\n",
        "from sklearn.model_selection import train_test_split\n",
        "\n",
        "model_knn = KNeighborsClassifier(n_neighbors=10, weights='distance', p=1)\n",
        "x = df.drop('Gaji', axis=1)\n",
        "y = df['Gaji']\n",
        "\n",
        "x_train, x_test, y_train, y_test = train_test_split(x, y, test_size=0.23, random_state=21, stratify=y)\n",
        "\n",
        "model_knn.fit(x_train, y_train)\n",
        "\n",
        "y_pred = model_knn.predict(x_test)"
      ],
      "execution_count": 0,
      "outputs": []
    },
    {
      "cell_type": "code",
      "metadata": {
        "id": "l5r_WBEyqlz3",
        "colab_type": "code",
        "colab": {}
      },
      "source": [
        "from sklearn.neighbors import KNeighborsClassifier\n",
        "\n",
        "\n",
        "model_knn=KNeighborsClassifier(n_neighbors=10,weights='distance',p=1)\n",
        "x=df.drop('Gaji',axis=1)\n",
        "y=df['Gaji']\n",
        "\n",
        "\n",
        "model_knn.fit(x,y)\n",
        "df_pred=model_knn.predict(df_test)\n",
        "\n",
        "\n",
        "from sklearn.tree import DecisionTreeClassifier\n",
        "\n",
        "\n",
        "model_knn=DecisionTreeClassifier(random_state=13,min_samples_split=27,max_depth=10)\n",
        "x=df.drop('Gaji',axis=1)\n",
        "y=df['Gaji']\n",
        "model_knn.fit(x,y)\n",
        "df_pred=model_knn.predict(x_test)\n",
        "\n",
        "gaji=pd.DataFrame(data=df_pred,columns=['Gaji'])\n",
        "\n",
        "result=pd.concat([df_testid,gaji],axis=1)\n",
        "result.to_csv('Result.csv',index=False)\n",
        "result"
      ],
      "execution_count": 0,
      "outputs": []
    },
    {
      "cell_type": "code",
      "metadata": {
        "id": "38iHXUnXqpfh",
        "colab_type": "code",
        "colab": {}
      },
      "source": [
        "from sklearn.tree import DecisionTreeClassifier\n",
        "\n",
        "model_knn = DecisionTreeClassifier(random_state=13, min_samples_split=27, max_depth=10)\n",
        "x = df.drop('Gaji', axis=1)\n",
        "y = df['Gaji']\n",
        "\n",
        "model_knn.fit(x,y)\n",
        "\n",
        "df_pred = model_knn.predict(df_test)"
      ],
      "execution_count": 0,
      "outputs": []
    },
    {
      "cell_type": "code",
      "metadata": {
        "id": "P26-jB6tqqA7",
        "colab_type": "code",
        "colab": {}
      },
      "source": [
        "from sklearn.neighbors import KNeighborsClassifier\n",
        "\n",
        "model_knn = KNeighborsClassifier(n_neighbors=10, weights='distance', p=1)\n",
        "x = df.drop('Gaji', axis=1)\n",
        "y = df['Gaji']\n",
        "\n",
        "model_knn.fit(x,y)\n",
        "df_pred = model_knn.predict(df_test)"
      ],
      "execution_count": 0,
      "outputs": []
    },
    {
      "cell_type": "code",
      "metadata": {
        "id": "GEqu2-PBqrqB",
        "colab_type": "code",
        "colab": {}
      },
      "source": [
        "gaji = pd.DataFrame(data=df_pred, columns=['Gaji'])"
      ],
      "execution_count": 0,
      "outputs": []
    },
    {
      "cell_type": "code",
      "metadata": {
        "id": "icoinPucqtin",
        "colab_type": "code",
        "colab": {}
      },
      "source": [
        "result = pd.concat([df_testid, gaji], axis=1)"
      ],
      "execution_count": 0,
      "outputs": []
    },
    {
      "cell_type": "code",
      "metadata": {
        "id": "0he-GP_Cqw6R",
        "colab_type": "code",
        "colab": {}
      },
      "source": [
        "result.to_csv('Result.csv', index=False)"
      ],
      "execution_count": 0,
      "outputs": []
    },
    {
      "cell_type": "code",
      "metadata": {
        "id": "wOR_TWoIqxiB",
        "colab_type": "code",
        "colab": {}
      },
      "source": [
        "result"
      ],
      "execution_count": 0,
      "outputs": []
    }
  ]
}